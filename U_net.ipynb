{
 "cells": [
  {
   "cell_type": "code",
   "execution_count": 5,
   "metadata": {},
   "outputs": [
    {
     "name": "stderr",
     "output_type": "stream",
     "text": [
      "Using TensorFlow backend.\n"
     ]
    }
   ],
   "source": [
    "import os\n",
    "import sys\n",
    "import random\n",
    "import warnings\n",
    "\n",
    "import numpy as np\n",
    "\n",
    "import matplotlib.pyplot as plt\n",
    "\n",
    "from itertools import chain\n",
    "from skimage.io import imread, imshow, imread_collection, concatenate_images\n",
    "from skimage.transform import resize\n",
    "from skimage.morphology import label\n",
    "\n",
    "from keras.models import Model, load_model\n",
    "from keras.layers import Input\n",
    "from keras.layers.core import Dropout, Lambda\n",
    "from keras.layers.convolutional import Conv2D, Conv2DTranspose\n",
    "from keras.layers.pooling import MaxPooling2D\n",
    "from keras.layers.merge import concatenate\n",
    "from keras.callbacks import EarlyStopping, ModelCheckpoint\n",
    "from keras import backend as K\n",
    "from keras.callbacks import EarlyStopping\n",
    "\n",
    "import tensorflow as tf\n",
    "config = tf.ConfigProto()\n",
    "config.gpu_options.allow_growth = True\n",
    "K.set_session(tf.Session(config=config))"
   ]
  },
  {
   "cell_type": "code",
   "execution_count": 7,
   "metadata": {},
   "outputs": [],
   "source": [
    "# Define IoU metric\n",
    "def mean_iou(y_true, y_pred):\n",
    "    prec = []\n",
    "    for t in np.arange(0.5, 1.0, 0.05):\n",
    "        y_pred_ = tf.to_int32(y_pred > t)\n",
    "        score, up_opt = tf.metrics.mean_iou(y_true, y_pred_, 2)\n",
    "        K.get_session().run(tf.local_variables_initializer())\n",
    "        with tf.control_dependencies([up_opt]):\n",
    "            score = tf.identity(score)\n",
    "        prec.append(score)\n",
    "    return K.mean(K.stack(prec), axis=0)"
   ]
  },
  {
   "cell_type": "code",
   "execution_count": 8,
   "metadata": {
    "scrolled": false
   },
   "outputs": [
    {
     "name": "stdout",
     "output_type": "stream",
     "text": [
      "__________________________________________________________________________________________________\n",
      "Layer (type)                    Output Shape         Param #     Connected to                     \n",
      "==================================================================================================\n",
      "input_1 (InputLayer)            (None, 128, 128, 3)  0                                            \n",
      "__________________________________________________________________________________________________\n",
      "lambda_1 (Lambda)               (None, 128, 128, 3)  0           input_1[0][0]                    \n",
      "__________________________________________________________________________________________________\n",
      "conv2d_1 (Conv2D)               (None, 128, 128, 16) 448         lambda_1[0][0]                   \n",
      "__________________________________________________________________________________________________\n",
      "dropout_1 (Dropout)             (None, 128, 128, 16) 0           conv2d_1[0][0]                   \n",
      "__________________________________________________________________________________________________\n",
      "conv2d_2 (Conv2D)               (None, 128, 128, 16) 2320        dropout_1[0][0]                  \n",
      "__________________________________________________________________________________________________\n",
      "max_pooling2d_1 (MaxPooling2D)  (None, 64, 64, 16)   0           conv2d_2[0][0]                   \n",
      "__________________________________________________________________________________________________\n",
      "conv2d_3 (Conv2D)               (None, 64, 64, 32)   4640        max_pooling2d_1[0][0]            \n",
      "__________________________________________________________________________________________________\n",
      "dropout_2 (Dropout)             (None, 64, 64, 32)   0           conv2d_3[0][0]                   \n",
      "__________________________________________________________________________________________________\n",
      "conv2d_4 (Conv2D)               (None, 64, 64, 32)   9248        dropout_2[0][0]                  \n",
      "__________________________________________________________________________________________________\n",
      "max_pooling2d_2 (MaxPooling2D)  (None, 32, 32, 32)   0           conv2d_4[0][0]                   \n",
      "__________________________________________________________________________________________________\n",
      "conv2d_5 (Conv2D)               (None, 32, 32, 64)   18496       max_pooling2d_2[0][0]            \n",
      "__________________________________________________________________________________________________\n",
      "dropout_3 (Dropout)             (None, 32, 32, 64)   0           conv2d_5[0][0]                   \n",
      "__________________________________________________________________________________________________\n",
      "conv2d_6 (Conv2D)               (None, 32, 32, 64)   36928       dropout_3[0][0]                  \n",
      "__________________________________________________________________________________________________\n",
      "max_pooling2d_3 (MaxPooling2D)  (None, 16, 16, 64)   0           conv2d_6[0][0]                   \n",
      "__________________________________________________________________________________________________\n",
      "conv2d_7 (Conv2D)               (None, 16, 16, 128)  73856       max_pooling2d_3[0][0]            \n",
      "__________________________________________________________________________________________________\n",
      "dropout_4 (Dropout)             (None, 16, 16, 128)  0           conv2d_7[0][0]                   \n",
      "__________________________________________________________________________________________________\n",
      "conv2d_8 (Conv2D)               (None, 16, 16, 128)  147584      dropout_4[0][0]                  \n",
      "__________________________________________________________________________________________________\n",
      "max_pooling2d_4 (MaxPooling2D)  (None, 8, 8, 128)    0           conv2d_8[0][0]                   \n",
      "__________________________________________________________________________________________________\n",
      "conv2d_9 (Conv2D)               (None, 8, 8, 256)    295168      max_pooling2d_4[0][0]            \n",
      "__________________________________________________________________________________________________\n",
      "dropout_5 (Dropout)             (None, 8, 8, 256)    0           conv2d_9[0][0]                   \n",
      "__________________________________________________________________________________________________\n",
      "conv2d_10 (Conv2D)              (None, 8, 8, 256)    590080      dropout_5[0][0]                  \n",
      "__________________________________________________________________________________________________\n",
      "conv2d_transpose_1 (Conv2DTrans (None, 16, 16, 128)  131200      conv2d_10[0][0]                  \n",
      "__________________________________________________________________________________________________\n",
      "concatenate_1 (Concatenate)     (None, 16, 16, 256)  0           conv2d_transpose_1[0][0]         \n",
      "                                                                 conv2d_8[0][0]                   \n",
      "__________________________________________________________________________________________________\n",
      "conv2d_11 (Conv2D)              (None, 16, 16, 128)  295040      concatenate_1[0][0]              \n",
      "__________________________________________________________________________________________________\n",
      "dropout_6 (Dropout)             (None, 16, 16, 128)  0           conv2d_11[0][0]                  \n",
      "__________________________________________________________________________________________________\n",
      "conv2d_12 (Conv2D)              (None, 16, 16, 128)  147584      dropout_6[0][0]                  \n",
      "__________________________________________________________________________________________________\n",
      "conv2d_transpose_2 (Conv2DTrans (None, 32, 32, 64)   32832       conv2d_12[0][0]                  \n",
      "__________________________________________________________________________________________________\n",
      "concatenate_2 (Concatenate)     (None, 32, 32, 128)  0           conv2d_transpose_2[0][0]         \n",
      "                                                                 conv2d_6[0][0]                   \n",
      "__________________________________________________________________________________________________\n",
      "conv2d_13 (Conv2D)              (None, 32, 32, 64)   73792       concatenate_2[0][0]              \n",
      "__________________________________________________________________________________________________\n",
      "dropout_7 (Dropout)             (None, 32, 32, 64)   0           conv2d_13[0][0]                  \n",
      "__________________________________________________________________________________________________\n",
      "conv2d_14 (Conv2D)              (None, 32, 32, 64)   36928       dropout_7[0][0]                  \n",
      "__________________________________________________________________________________________________\n",
      "conv2d_transpose_3 (Conv2DTrans (None, 64, 64, 32)   8224        conv2d_14[0][0]                  \n",
      "__________________________________________________________________________________________________\n",
      "concatenate_3 (Concatenate)     (None, 64, 64, 64)   0           conv2d_transpose_3[0][0]         \n",
      "                                                                 conv2d_4[0][0]                   \n",
      "__________________________________________________________________________________________________\n",
      "conv2d_15 (Conv2D)              (None, 64, 64, 32)   18464       concatenate_3[0][0]              \n",
      "__________________________________________________________________________________________________\n",
      "dropout_8 (Dropout)             (None, 64, 64, 32)   0           conv2d_15[0][0]                  \n",
      "__________________________________________________________________________________________________\n",
      "conv2d_16 (Conv2D)              (None, 64, 64, 32)   9248        dropout_8[0][0]                  \n",
      "__________________________________________________________________________________________________\n",
      "conv2d_transpose_4 (Conv2DTrans (None, 128, 128, 16) 2064        conv2d_16[0][0]                  \n",
      "__________________________________________________________________________________________________\n",
      "concatenate_4 (Concatenate)     (None, 128, 128, 32) 0           conv2d_transpose_4[0][0]         \n",
      "                                                                 conv2d_2[0][0]                   \n",
      "__________________________________________________________________________________________________\n",
      "conv2d_17 (Conv2D)              (None, 128, 128, 16) 4624        concatenate_4[0][0]              \n",
      "__________________________________________________________________________________________________\n",
      "dropout_9 (Dropout)             (None, 128, 128, 16) 0           conv2d_17[0][0]                  \n",
      "__________________________________________________________________________________________________\n",
      "conv2d_18 (Conv2D)              (None, 128, 128, 16) 2320        dropout_9[0][0]                  \n",
      "__________________________________________________________________________________________________\n",
      "conv2d_19 (Conv2D)              (None, 128, 128, 1)  17          conv2d_18[0][0]                  \n",
      "==================================================================================================\n",
      "Total params: 1,941,105\n",
      "Trainable params: 1,941,105\n",
      "Non-trainable params: 0\n",
      "__________________________________________________________________________________________________\n"
     ]
    }
   ],
   "source": [
    "IMG_WIDTH = 128\n",
    "IMG_HEIGHT = 128\n",
    "IMG_CHANNELS = 3\n",
    "\n",
    "# Build U-Net model\n",
    "inputs = Input((IMG_HEIGHT, IMG_WIDTH, IMG_CHANNELS))\n",
    "s = Lambda(lambda x: x / 255) (inputs)\n",
    "\n",
    "c1 = Conv2D(16, (3, 3), activation='elu', kernel_initializer='he_normal', padding='same') (s)\n",
    "c1 = Dropout(0.1) (c1)\n",
    "c1 = Conv2D(16, (3, 3), activation='elu', kernel_initializer='he_normal', padding='same') (c1)\n",
    "p1 = MaxPooling2D((2, 2)) (c1)\n",
    "\n",
    "c2 = Conv2D(32, (3, 3), activation='elu', kernel_initializer='he_normal', padding='same') (p1)\n",
    "c2 = Dropout(0.1) (c2)\n",
    "c2 = Conv2D(32, (3, 3), activation='elu', kernel_initializer='he_normal', padding='same') (c2)\n",
    "p2 = MaxPooling2D((2, 2)) (c2)\n",
    "\n",
    "c3 = Conv2D(64, (3, 3), activation='elu', kernel_initializer='he_normal', padding='same') (p2)\n",
    "c3 = Dropout(0.2) (c3)\n",
    "c3 = Conv2D(64, (3, 3), activation='elu', kernel_initializer='he_normal', padding='same') (c3)\n",
    "p3 = MaxPooling2D((2, 2)) (c3)\n",
    "\n",
    "c4 = Conv2D(128, (3, 3), activation='elu', kernel_initializer='he_normal', padding='same') (p3)\n",
    "c4 = Dropout(0.2) (c4)\n",
    "c4 = Conv2D(128, (3, 3), activation='elu', kernel_initializer='he_normal', padding='same') (c4)\n",
    "p4 = MaxPooling2D(pool_size=(2, 2)) (c4)\n",
    "\n",
    "c5 = Conv2D(256, (3, 3), activation='elu', kernel_initializer='he_normal', padding='same') (p4)\n",
    "c5 = Dropout(0.3) (c5)\n",
    "c5 = Conv2D(256, (3, 3), activation='elu', kernel_initializer='he_normal', padding='same') (c5)\n",
    "\n",
    "u6 = Conv2DTranspose(128, (2, 2), strides=(2, 2), padding='same') (c5)\n",
    "u6 = concatenate([u6, c4])\n",
    "c6 = Conv2D(128, (3, 3), activation='elu', kernel_initializer='he_normal', padding='same') (u6)\n",
    "c6 = Dropout(0.2) (c6)\n",
    "c6 = Conv2D(128, (3, 3), activation='elu', kernel_initializer='he_normal', padding='same') (c6)\n",
    "\n",
    "u7 = Conv2DTranspose(64, (2, 2), strides=(2, 2), padding='same') (c6)\n",
    "u7 = concatenate([u7, c3])\n",
    "c7 = Conv2D(64, (3, 3), activation='elu', kernel_initializer='he_normal', padding='same') (u7)\n",
    "c7 = Dropout(0.2) (c7)\n",
    "c7 = Conv2D(64, (3, 3), activation='elu', kernel_initializer='he_normal', padding='same') (c7)\n",
    "\n",
    "u8 = Conv2DTranspose(32, (2, 2), strides=(2, 2), padding='same') (c7)\n",
    "u8 = concatenate([u8, c2])\n",
    "c8 = Conv2D(32, (3, 3), activation='elu', kernel_initializer='he_normal', padding='same') (u8)\n",
    "c8 = Dropout(0.1) (c8)\n",
    "c8 = Conv2D(32, (3, 3), activation='elu', kernel_initializer='he_normal', padding='same') (c8)\n",
    "\n",
    "u9 = Conv2DTranspose(16, (2, 2), strides=(2, 2), padding='same') (c8)\n",
    "u9 = concatenate([u9, c1], axis=3)\n",
    "c9 = Conv2D(16, (3, 3), activation='elu', kernel_initializer='he_normal', padding='same') (u9)\n",
    "c9 = Dropout(0.1) (c9)\n",
    "c9 = Conv2D(16, (3, 3), activation='elu', kernel_initializer='he_normal', padding='same') (c9)\n",
    "\n",
    "outputs = Conv2D(1, (1, 1), activation='sigmoid') (c9)\n",
    "\n",
    "model = Model(inputs=[inputs], outputs=[outputs])\n",
    "model.compile(optimizer='adam', loss='binary_crossentropy', metrics=[mean_iou])\n",
    "model.summary()"
   ]
  },
  {
   "cell_type": "code",
   "execution_count": 9,
   "metadata": {},
   "outputs": [],
   "source": [
    "import h5py\n",
    "f = h5py.File('imgandlabel.h5','r')"
   ]
  },
  {
   "cell_type": "code",
   "execution_count": 10,
   "metadata": {},
   "outputs": [],
   "source": [
    "import scipy\n",
    "from scipy import misc\n",
    "i_height = 128\n",
    "i_width = 128\n",
    "X_resized = np.zeros([399,128,128,3])\n",
    "Y_resized = np.zeros([399,128,128,1])\n",
    "import cv2\n",
    "for i in range(0,199):\n",
    "    X_resized[2*i] = cv2.resize(f['img'][i].astype('uint8'), (i_height, i_width))\n",
    "    X_resized[2*i+1] = cv2.flip(cv2.resize(f['img'][i].astype('uint8'), (i_height, i_width)),1)\n",
    "    temp = cv2.resize(f['label'][i].astype('uint8'), (i_height, i_width), cv2.INTER_AREA )\n",
    "    Y_resized[2*i] = temp.reshape(128,128,1)\n",
    "    temp = cv2.flip(cv2.resize(f['label'][i].astype('uint8'), (i_height, i_width),cv2.INTER_AREA ),1)\n",
    "    Y_resized[2*i+1] = temp.reshape(128,128,1)\n",
    "\n",
    "X_resized = X_resized[0:397]\n",
    "Y_resized = Y_resized[0:397]\n"
   ]
  },
  {
   "cell_type": "markdown",
   "metadata": {},
   "source": [
    "## 여기까지 Data load\n",
    "\n",
    "### 여기서 부터 Data Augmentation"
   ]
  },
  {
   "cell_type": "code",
   "execution_count": 11,
   "metadata": {},
   "outputs": [],
   "source": [
    "import imgaug.augmenters as iaa\n",
    "import imgaug as ia\n",
    "\n",
    "seq = iaa.Sequential([\n",
    "    iaa.Affine(rotate=(-45, 45)),  # rotate by -45 to 45 degrees (affects segmaps)\n",
    "    iaa.GammaContrast((0.5, 2.0), per_channel=True)\n",
    "], random_order=True)\n",
    "\n",
    "segmaps_aug=np.zeros([397,128,128,1])\n",
    "images_aug=np.zeros([397,128,128,3])\n",
    "segmaps_aug_i = []\n",
    "images_aug_i = []\n",
    "for i in range(0,397):\n",
    "    image = X_resized[i].astype('uint8')\n",
    "    segmap = ia.SegmentationMapOnImage(Y_resized[i], shape = (128,128,1))\n",
    "    \n",
    "    images_aug_i, segmaps_aug_i = seq(image=image, segmentation_maps=segmap)\n",
    "    segmaps_aug[i] = np.array(segmaps_aug_i.arr)\n",
    "    images_aug[i] = images_aug_i\n",
    "\n",
    "X_resized = X_resized/255\n",
    "Y_resized = Y_resized/255\n",
    "images_aug = images_aug/255"
   ]
  },
  {
   "cell_type": "markdown",
   "metadata": {},
   "source": [
    "## Data Arrange"
   ]
  },
  {
   "cell_type": "code",
   "execution_count": 12,
   "metadata": {},
   "outputs": [],
   "source": [
    "X_resized = np.concatenate((X_resized,images_aug))\n",
    "Y_resized = np.concatenate((Y_resized,segmaps_aug)) "
   ]
  },
  {
   "cell_type": "code",
   "execution_count": 13,
   "metadata": {},
   "outputs": [],
   "source": [
    "# import scipy\n",
    "# from scipy import misc\n",
    "# i_height = 128\n",
    "# i_width = 128\n",
    "# X_resized = np.zeros([199,128,128,3])\n",
    "# Y_resized = np.zeros([199,128,128,1])\n",
    "# for i in range(0,199):\n",
    "#     X_resized[i] = scipy.misc.imresize(f['img'][i].astype('uint8'), (i_height, i_width,3))\n",
    "#     temp = scipy.misc.imresize(f['label'][i].astype('uint8'), (i_height, i_width))\n",
    "#     Y_resized[i] = temp.reshape(128,128,1)"
   ]
  },
  {
   "cell_type": "code",
   "execution_count": 14,
   "metadata": {},
   "outputs": [],
   "source": [
    "from sklearn.model_selection import train_test_split\n",
    "# Data Split\n",
    "X_train, X_test, y_train, y_test = train_test_split(X_resized, Y_resized, test_size=0.3)"
   ]
  },
  {
   "cell_type": "code",
   "execution_count": 15,
   "metadata": {
    "scrolled": false
   },
   "outputs": [
    {
     "name": "stdout",
     "output_type": "stream",
     "text": [
      "Train on 555 samples, validate on 239 samples\n",
      "Epoch 1/50\n",
      "555/555 [==============================] - 14s 25ms/step - loss: 0.2727 - mean_iou: 0.4601 - val_loss: 0.1591 - val_mean_iou: 0.4801\n",
      "Epoch 2/50\n",
      "555/555 [==============================] - 3s 6ms/step - loss: 0.1571 - mean_iou: 0.4809 - val_loss: 0.1490 - val_mean_iou: 0.4811\n",
      "Epoch 3/50\n",
      "555/555 [==============================] - 3s 5ms/step - loss: 0.1499 - mean_iou: 0.4810 - val_loss: 0.1494 - val_mean_iou: 0.4811\n",
      "Epoch 4/50\n",
      "555/555 [==============================] - 3s 5ms/step - loss: 0.1486 - mean_iou: 0.4812 - val_loss: 0.1492 - val_mean_iou: 0.4811\n",
      "Epoch 5/50\n",
      "555/555 [==============================] - 3s 5ms/step - loss: 0.1476 - mean_iou: 0.4811 - val_loss: 0.1575 - val_mean_iou: 0.4811\n",
      "Epoch 6/50\n",
      "555/555 [==============================] - 3s 5ms/step - loss: 0.1470 - mean_iou: 0.4811 - val_loss: 0.1445 - val_mean_iou: 0.4811\n",
      "Epoch 7/50\n",
      "555/555 [==============================] - 3s 5ms/step - loss: 0.1429 - mean_iou: 0.4811 - val_loss: 0.1428 - val_mean_iou: 0.4810\n",
      "Epoch 8/50\n",
      "555/555 [==============================] - 3s 5ms/step - loss: 0.1422 - mean_iou: 0.4811 - val_loss: 0.1483 - val_mean_iou: 0.4810\n",
      "Epoch 9/50\n",
      "555/555 [==============================] - 3s 5ms/step - loss: 0.1420 - mean_iou: 0.4811 - val_loss: 0.1433 - val_mean_iou: 0.4810\n",
      "Epoch 10/50\n",
      "555/555 [==============================] - 3s 5ms/step - loss: 0.1381 - mean_iou: 0.4810 - val_loss: 0.1402 - val_mean_iou: 0.4810\n",
      "Epoch 11/50\n",
      "555/555 [==============================] - 3s 5ms/step - loss: 0.1309 - mean_iou: 0.4810 - val_loss: 0.1275 - val_mean_iou: 0.4810\n",
      "Epoch 12/50\n",
      "555/555 [==============================] - 3s 5ms/step - loss: 0.1275 - mean_iou: 0.4811 - val_loss: 0.1335 - val_mean_iou: 0.4811\n",
      "Epoch 13/50\n",
      "555/555 [==============================] - 3s 5ms/step - loss: 0.1161 - mean_iou: 0.4813 - val_loss: 0.1265 - val_mean_iou: 0.4816\n",
      "Epoch 14/50\n",
      "555/555 [==============================] - 3s 5ms/step - loss: 0.1104 - mean_iou: 0.4822 - val_loss: 0.1113 - val_mean_iou: 0.4827\n",
      "Epoch 15/50\n",
      "555/555 [==============================] - 3s 5ms/step - loss: 0.1013 - mean_iou: 0.4835 - val_loss: 0.0989 - val_mean_iou: 0.4846\n",
      "Epoch 16/50\n",
      "555/555 [==============================] - 3s 5ms/step - loss: 0.0934 - mean_iou: 0.4860 - val_loss: 0.0894 - val_mean_iou: 0.4874\n",
      "Epoch 17/50\n",
      "555/555 [==============================] - 3s 5ms/step - loss: 0.0869 - mean_iou: 0.4891 - val_loss: 0.0843 - val_mean_iou: 0.4908\n",
      "Epoch 18/50\n",
      "555/555 [==============================] - 3s 5ms/step - loss: 0.0795 - mean_iou: 0.4926 - val_loss: 0.0741 - val_mean_iou: 0.4947\n",
      "Epoch 19/50\n",
      "555/555 [==============================] - 3s 5ms/step - loss: 0.0740 - mean_iou: 0.4971 - val_loss: 0.0766 - val_mean_iou: 0.4996\n",
      "Epoch 20/50\n",
      "555/555 [==============================] - 3s 5ms/step - loss: 0.0712 - mean_iou: 0.5020 - val_loss: 0.0638 - val_mean_iou: 0.5047\n",
      "Epoch 21/50\n",
      "555/555 [==============================] - 3s 5ms/step - loss: 0.0638 - mean_iou: 0.5076 - val_loss: 0.0661 - val_mean_iou: 0.5103\n",
      "Epoch 22/50\n",
      "555/555 [==============================] - 3s 5ms/step - loss: 0.0585 - mean_iou: 0.5129 - val_loss: 0.0532 - val_mean_iou: 0.5163\n",
      "Epoch 23/50\n",
      "555/555 [==============================] - 3s 5ms/step - loss: 0.0553 - mean_iou: 0.5200 - val_loss: 0.0577 - val_mean_iou: 0.5231\n",
      "Epoch 24/50\n",
      "555/555 [==============================] - 3s 5ms/step - loss: 0.0530 - mean_iou: 0.5266 - val_loss: 0.0546 - val_mean_iou: 0.5301\n",
      "Epoch 25/50\n",
      "555/555 [==============================] - 3s 5ms/step - loss: 0.0454 - mean_iou: 0.5339 - val_loss: 0.0525 - val_mean_iou: 0.5376\n",
      "Epoch 26/50\n",
      "555/555 [==============================] - 3s 5ms/step - loss: 0.0439 - mean_iou: 0.5409 - val_loss: 0.0493 - val_mean_iou: 0.5445\n",
      "Epoch 27/50\n",
      "555/555 [==============================] - 3s 5ms/step - loss: 0.0397 - mean_iou: 0.5480 - val_loss: 0.0497 - val_mean_iou: 0.5519\n",
      "Epoch 28/50\n",
      "555/555 [==============================] - 3s 5ms/step - loss: 0.0378 - mean_iou: 0.5557 - val_loss: 0.0521 - val_mean_iou: 0.5593\n",
      "Epoch 29/50\n",
      "555/555 [==============================] - 3s 5ms/step - loss: 0.0374 - mean_iou: 0.5627 - val_loss: 0.0454 - val_mean_iou: 0.5665\n",
      "Epoch 30/50\n",
      "555/555 [==============================] - 3s 5ms/step - loss: 0.0341 - mean_iou: 0.5702 - val_loss: 0.0452 - val_mean_iou: 0.5740\n",
      "Epoch 31/50\n",
      "555/555 [==============================] - 3s 5ms/step - loss: 0.0376 - mean_iou: 0.5773 - val_loss: 0.0434 - val_mean_iou: 0.5806\n",
      "Epoch 32/50\n",
      "555/555 [==============================] - 3s 5ms/step - loss: 0.0296 - mean_iou: 0.5843 - val_loss: 0.0387 - val_mean_iou: 0.5879\n",
      "Epoch 33/50\n",
      "555/555 [==============================] - 3s 5ms/step - loss: 0.0283 - mean_iou: 0.5915 - val_loss: 0.0412 - val_mean_iou: 0.5949\n",
      "Epoch 34/50\n",
      "555/555 [==============================] - 3s 5ms/step - loss: 0.0275 - mean_iou: 0.5982 - val_loss: 0.0433 - val_mean_iou: 0.6016\n",
      "Epoch 35/50\n",
      "555/555 [==============================] - 3s 5ms/step - loss: 0.0261 - mean_iou: 0.6048 - val_loss: 0.0364 - val_mean_iou: 0.6080\n",
      "Epoch 36/50\n",
      "555/555 [==============================] - 3s 5ms/step - loss: 0.0244 - mean_iou: 0.6111 - val_loss: 0.0418 - val_mean_iou: 0.6142\n",
      "Epoch 37/50\n",
      "555/555 [==============================] - 3s 5ms/step - loss: 0.0233 - mean_iou: 0.6173 - val_loss: 0.0395 - val_mean_iou: 0.6204\n",
      "Epoch 38/50\n",
      "555/555 [==============================] - 3s 5ms/step - loss: 0.0225 - mean_iou: 0.6234 - val_loss: 0.0383 - val_mean_iou: 0.6262\n",
      "Epoch 39/50\n",
      "555/555 [==============================] - 3s 5ms/step - loss: 0.0219 - mean_iou: 0.6290 - val_loss: 0.0380 - val_mean_iou: 0.6319\n",
      "Epoch 40/50\n",
      "555/555 [==============================] - 3s 5ms/step - loss: 0.0214 - mean_iou: 0.6346 - val_loss: 0.0386 - val_mean_iou: 0.6374\n",
      "Epoch 41/50\n",
      "555/555 [==============================] - 3s 5ms/step - loss: 0.0211 - mean_iou: 0.6399 - val_loss: 0.0369 - val_mean_iou: 0.6425\n",
      "Epoch 42/50\n",
      "555/555 [==============================] - 3s 5ms/step - loss: 0.0206 - mean_iou: 0.6450 - val_loss: 0.0359 - val_mean_iou: 0.6475\n",
      "Epoch 43/50\n",
      "555/555 [==============================] - 3s 5ms/step - loss: 0.0203 - mean_iou: 0.6499 - val_loss: 0.0398 - val_mean_iou: 0.6523\n",
      "Epoch 44/50\n",
      "555/555 [==============================] - 3s 5ms/step - loss: 0.0198 - mean_iou: 0.6546 - val_loss: 0.0370 - val_mean_iou: 0.6570\n",
      "Epoch 45/50\n",
      "555/555 [==============================] - 3s 5ms/step - loss: 0.0196 - mean_iou: 0.6593 - val_loss: 0.0369 - val_mean_iou: 0.6615\n",
      "Epoch 46/50\n",
      "555/555 [==============================] - 3s 5ms/step - loss: 0.0200 - mean_iou: 0.6637 - val_loss: 0.0371 - val_mean_iou: 0.6658\n",
      "Epoch 47/50\n",
      "555/555 [==============================] - 3s 5ms/step - loss: 0.0324 - mean_iou: 0.6675 - val_loss: 0.0546 - val_mean_iou: 0.6686\n",
      "Epoch 48/50\n",
      "555/555 [==============================] - 3s 5ms/step - loss: 0.0327 - mean_iou: 0.6698 - val_loss: 0.0414 - val_mean_iou: 0.6714\n",
      "Epoch 49/50\n",
      "555/555 [==============================] - 3s 5ms/step - loss: 0.0296 - mean_iou: 0.6730 - val_loss: 0.0472 - val_mean_iou: 0.6742\n",
      "Epoch 50/50\n",
      "555/555 [==============================] - 3s 5ms/step - loss: 0.0275 - mean_iou: 0.6754 - val_loss: 0.0401 - val_mean_iou: 0.6769\n"
     ]
    }
   ],
   "source": [
    "early_stopping = EarlyStopping()\n",
    "results = model.fit(X_train, y_train, batch_size=16, epochs=50,validation_data=(X_test, y_test))"
   ]
  },
  {
   "cell_type": "code",
   "execution_count": null,
   "metadata": {},
   "outputs": [],
   "source": [
    "model.save(\"UNET.h5\")"
   ]
  },
  {
   "cell_type": "code",
   "execution_count": null,
   "metadata": {},
   "outputs": [],
   "source": [
    "print(y_train.shape)"
   ]
  },
  {
   "cell_type": "code",
   "execution_count": null,
   "metadata": {},
   "outputs": [],
   "source": [
    "print(X_test.shape)"
   ]
  },
  {
   "cell_type": "code",
   "execution_count": null,
   "metadata": {
    "scrolled": false
   },
   "outputs": [],
   "source": [
    "from matplotlib import gridspec\n",
    "%matplotlib inline\n",
    "\n",
    "nrow = 159\n",
    "ncol = 2\n",
    "fig = plt.figure(figsize=(ncol+1, nrow+1))\n",
    "Y = model.predict(X_test)\n",
    "\n",
    "gs = gridspec.GridSpec(nrow, ncol,\n",
    "         wspace=0.0, hspace=0.0, \n",
    "         top=1.-0.5/(nrow+1), bottom=0.5/(nrow+1), \n",
    "         left=0.5/(ncol+1), right=1-0.5/(ncol+1)) \n",
    "\n",
    "for i in range(0,nrow):\n",
    "    Y_out = Y[i,:,:,:].reshape(128,128)\n",
    "    ax= plt.subplot(gs[i,0])\n",
    "    ax.imshow(X_test[i,:,:,:], interpolation='nearest', aspect='auto')\n",
    "    ax.set_xticklabels([])\n",
    "    ax.set_yticklabels([])\n",
    "    ax= plt.subplot(gs[i,1])\n",
    "    ax.imshow(X_test[i,:,:,:], interpolation='nearest', aspect='auto')\n",
    "    ax.imshow(Y_out,alpha=0.5, interpolation='nearest', aspect='auto')\n",
    "    ax.set_xticklabels([])\n",
    "    ax.set_yticklabels([])"
   ]
  },
  {
   "cell_type": "code",
   "execution_count": null,
   "metadata": {
    "scrolled": true
   },
   "outputs": [],
   "source": [
    "from matplotlib import gridspec\n",
    "\n",
    "%matplotlib inline\n",
    "nrow = 159\n",
    "ncol = 2\n",
    "fig = plt.figure(figsize=(ncol+1, nrow+1))\n",
    "Y = model.predict(X_train)\n",
    "\n",
    "gs = gridspec.GridSpec(nrow, ncol,\n",
    "         wspace=0.0, hspace=0.0, \n",
    "         top=1.-0.5/(nrow+1), bottom=0.5/(nrow+1), \n",
    "         left=0.5/(ncol+1), right=1-0.5/(ncol+1)) \n",
    "\n",
    "for i in range(0,159):\n",
    "    Y_out = Y[i,:,:,:].reshape(128,128)\n",
    "    ax= plt.subplot(gs[i,0])\n",
    "    ax.imshow(X_train[i,:,:,:], interpolation='nearest', aspect='auto')\n",
    "    ax.set_xticklabels([])\n",
    "    ax.set_yticklabels([])\n",
    "    ax= plt.subplot(gs[i,1])\n",
    "    ax.imshow(X_train[i,:,:,:], interpolation='nearest', aspect='auto')\n",
    "    ax.imshow(Y_out,alpha=0.5, interpolation='nearest', aspect='auto')\n",
    "    ax.set_xticklabels([])\n",
    "    ax.set_yticklabels([])"
   ]
  },
  {
   "cell_type": "code",
   "execution_count": null,
   "metadata": {},
   "outputs": [],
   "source": [
    "i_height = 1080\n",
    "i_width = 1920\n",
    "X_recon = np.zeros([nrow,1080,1920,3])\n",
    "Y_recon = np.zeros([nrow,1080,1920])\n",
    "for i in range(0,nrow):\n",
    "    X_recon[i] = scipy.misc.imresize(X_test[i], (i_height, i_width,3))\n",
    "    Y_recon[i] = scipy.misc.imresize(Y[i].reshape(128,128), (i_height, i_width))"
   ]
  },
  {
   "cell_type": "code",
   "execution_count": null,
   "metadata": {},
   "outputs": [],
   "source": [
    "print(Y.shape)"
   ]
  },
  {
   "cell_type": "code",
   "execution_count": null,
   "metadata": {},
   "outputs": [],
   "source": [
    "plt.imshow(X_recon[0].astype('uint8'))\n",
    "plt.imshow(Y_recon[0])"
   ]
  },
  {
   "cell_type": "code",
   "execution_count": null,
   "metadata": {
    "scrolled": true
   },
   "outputs": [],
   "source": [
    "from matplotlib import gridspec\n",
    "nrow = 159\n",
    "ncol = 2\n",
    "fig = plt.figure(figsize=(ncol+1, nrow+1))\n",
    "\n",
    "gs = gridspec.GridSpec(nrow, ncol,\n",
    "         wspace=0.0, hspace=0.0, \n",
    "         top=1.-0.5/(nrow+1), bottom=0.5/(nrow+1), \n",
    "         left=0.5/(ncol+1), right=1-0.5/(ncol+1)) \n",
    "\n",
    "for i in range(0,nrow):\n",
    "    ax= plt.subplot(gs[i,0])\n",
    "    ax.imshow(X_recon[i].astype('uint8'), interpolation='nearest', aspect='auto')\n",
    "    ax.set_xticklabels([])\n",
    "    ax.set_yticklabels([])\n",
    "    ax= plt.subplot(gs[i,1])\n",
    "    ax.imshow(X_recon[i].astype('uint8'), interpolation='nearest', aspect='auto')\n",
    "    ax.imshow(Y_recon[i],alpha=0.5, interpolation='nearest', aspect='auto')\n",
    "    ax.set_xticklabels([])\n",
    "    ax.set_yticklabels([])"
   ]
  },
  {
   "cell_type": "code",
   "execution_count": null,
   "metadata": {},
   "outputs": [],
   "source": [
    "import scipy.io"
   ]
  },
  {
   "cell_type": "code",
   "execution_count": null,
   "metadata": {},
   "outputs": [],
   "source": [
    "scipy.io.savemat('segmentation_data.mat', mdict={'img': X_test,'label' : Y}, format='5') "
   ]
  },
  {
   "cell_type": "code",
   "execution_count": null,
   "metadata": {},
   "outputs": [],
   "source": [
    "import cv2\n",
    "cv2.cornerHarris(gray,2,3,0.04)\n",
    "cv2.imshow"
   ]
  },
  {
   "cell_type": "code",
   "execution_count": null,
   "metadata": {},
   "outputs": [],
   "source": [
    "model = load_model('UNET.h5')"
   ]
  },
  {
   "cell_type": "code",
   "execution_count": null,
   "metadata": {},
   "outputs": [],
   "source": [
    "%matplotlib qt"
   ]
  },
  {
   "cell_type": "code",
   "execution_count": null,
   "metadata": {},
   "outputs": [],
   "source": [
    "plt.imshow(Y[0].reshape(128,128))\n",
    "plt.show()"
   ]
  },
  {
   "cell_type": "code",
   "execution_count": null,
   "metadata": {},
   "outputs": [],
   "source": [
    "videoFile1 = 'video1.mp4'\n",
    "cap = cv2.VideoCapture(videoFile1)\n",
    "while(cap.isOpened()):\n",
    "    ret, frame = cap.read()\n",
    "    \n",
    "    if ret:\n",
    "        cv2.imshow('video',frame)\n",
    "        if cv2.waitKey(1) & 0xFF == ord('q'):\n",
    "            break\n",
    "    else:\n",
    "        break\n",
    "        \n",
    "        \n",
    "        \n",
    "cap.release()\n",
    "cv2.destroyAllWindows()\n",
    "        \n",
    "        \n",
    "        "
   ]
  },
  {
   "cell_type": "code",
   "execution_count": null,
   "metadata": {},
   "outputs": [],
   "source": [
    "videoFile1 = 'video1.mp4'\n",
    "cap = cv2.VideoCapture(videoFile1)\n",
    "while(cap.isOpened()):\n",
    "    ret, frame = cap.read()\n",
    "    \n",
    "    if ret:\n",
    "        cv2.imshow('video',frame)\n",
    "        if cv2.waitKey(1) & 0xFF == ord('q'):\n",
    "            break\n",
    "    else:\n",
    "        break\n",
    "        \n",
    "        \n",
    "        \n",
    "cap.release()\n",
    "cv2.destroyAllWindows()"
   ]
  },
  {
   "cell_type": "code",
   "execution_count": 75,
   "metadata": {},
   "outputs": [
    {
     "ename": "error",
     "evalue": "OpenCV(4.1.2) C:\\projects\\opencv-python\\opencv\\modules\\imgproc\\src\\color.cpp:182: error: (-215:Assertion failed) !_src.empty() in function 'cv::cvtColor'\n",
     "output_type": "error",
     "traceback": [
      "\u001b[1;31m---------------------------------------------------------------------------\u001b[0m",
      "\u001b[1;31merror\u001b[0m                                     Traceback (most recent call last)",
      "\u001b[1;32m<ipython-input-75-bb3014827a88>\u001b[0m in \u001b[0;36m<module>\u001b[1;34m()\u001b[0m\n\u001b[0;32m     14\u001b[0m     \u001b[0mret\u001b[0m\u001b[1;33m,\u001b[0m \u001b[0mimg\u001b[0m \u001b[1;33m=\u001b[0m \u001b[0mcap\u001b[0m\u001b[1;33m.\u001b[0m\u001b[0mread\u001b[0m\u001b[1;33m(\u001b[0m\u001b[1;33m)\u001b[0m\u001b[1;33m\u001b[0m\u001b[0m\n\u001b[0;32m     15\u001b[0m     \u001b[1;32mif\u001b[0m \u001b[0mcnt\u001b[0m\u001b[1;33m%\u001b[0m\u001b[1;36m10\u001b[0m \u001b[1;33m==\u001b[0m \u001b[1;36m0\u001b[0m\u001b[1;33m:\u001b[0m\u001b[1;33m\u001b[0m\u001b[0m\n\u001b[1;32m---> 16\u001b[1;33m         \u001b[0mimg_rgb\u001b[0m \u001b[1;33m=\u001b[0m \u001b[0mcv2\u001b[0m\u001b[1;33m.\u001b[0m\u001b[0mcvtColor\u001b[0m\u001b[1;33m(\u001b[0m\u001b[0mimg\u001b[0m\u001b[1;33m,\u001b[0m \u001b[0mcv2\u001b[0m\u001b[1;33m.\u001b[0m\u001b[0mCOLOR_BGR2RGB\u001b[0m\u001b[1;33m)\u001b[0m\u001b[1;33m\u001b[0m\u001b[0m\n\u001b[0m\u001b[0;32m     17\u001b[0m         \u001b[0mbuf\u001b[0m\u001b[1;33m[\u001b[0m\u001b[0mfc\u001b[0m\u001b[1;33m]\u001b[0m \u001b[1;33m=\u001b[0m \u001b[0mimg_rgb\u001b[0m\u001b[1;33m\u001b[0m\u001b[0m\n\u001b[0;32m     18\u001b[0m         \u001b[0mfc\u001b[0m \u001b[1;33m+=\u001b[0m \u001b[1;36m1\u001b[0m\u001b[1;33m\u001b[0m\u001b[0m\n",
      "\u001b[1;31merror\u001b[0m: OpenCV(4.1.2) C:\\projects\\opencv-python\\opencv\\modules\\imgproc\\src\\color.cpp:182: error: (-215:Assertion failed) !_src.empty() in function 'cv::cvtColor'\n"
     ]
    }
   ],
   "source": [
    "import cv2\n",
    "import numpy as np\n",
    "videoFile1 = 'VideoForObjectDetection.mp4'\n",
    "\n",
    "cap = cv2.VideoCapture(videoFile1)\n",
    "frameCount = 500\n",
    "frameWidth = int(cap.get(cv2.CAP_PROP_FRAME_WIDTH))\n",
    "frameHeight = int(cap.get(cv2.CAP_PROP_FRAME_HEIGHT))\n",
    "\n",
    "buf = np.empty((frameCount, frameHeight, frameWidth, 3))\n",
    "fc = 0\n",
    "cnt = 0;\n",
    "while(fc<frameCount):\n",
    "    ret, img = cap.read()\n",
    "    if cnt%10 == 0:\n",
    "        img_rgb = cv2.cvtColor(img, cv2.COLOR_BGR2RGB)\n",
    "        buf[fc] = img_rgb\n",
    "        fc += 1\n",
    "    cnt += 1\n",
    "        \n",
    "cap.release()"
   ]
  },
  {
   "cell_type": "code",
   "execution_count": 76,
   "metadata": {},
   "outputs": [],
   "source": [
    "import scipy\n",
    "from scipy import misc\n",
    "i_height = 128\n",
    "i_width = 128\n",
    "X_other = np.zeros([frameCount,128,128,3])\n",
    "import cv2\n",
    "for i in range(0,frameCount):\n",
    "    X_other[i] = cv2.resize(buf[i], (i_height, i_width))"
   ]
  },
  {
   "cell_type": "code",
   "execution_count": 77,
   "metadata": {},
   "outputs": [],
   "source": [
    "Y = model.predict(X_other/255)"
   ]
  },
  {
   "cell_type": "code",
   "execution_count": null,
   "metadata": {},
   "outputs": [],
   "source": [
    "imgnum = 300\n",
    "plt.subplot(2,1,1)\n",
    "plt.imshow(X_other[imgnum].astype('uint8'))\n",
    "plt.subplot(2,1,2)\n",
    "plt.imshow(Y[imgnum].reshape(128,128))"
   ]
  },
  {
   "cell_type": "code",
   "execution_count": null,
   "metadata": {},
   "outputs": [],
   "source": [
    "print(X_resized[0].shape)"
   ]
  },
  {
   "cell_type": "code",
   "execution_count": null,
   "metadata": {},
   "outputs": [],
   "source": [
    "import skvideo.io \n",
    "cap = VideoCapture(filename)\n",
    "cap.open()\n",
    "retval, image = cap.read()\n"
   ]
  },
  {
   "cell_type": "code",
   "execution_count": 78,
   "metadata": {},
   "outputs": [],
   "source": [
    "Y_reshape = Y.reshape(frameCount,128,128)\n",
    "scipy.io.savemat('post_data3.mat', mdict={'img': X_other,'label' : Y}, format='5') "
   ]
  },
  {
   "cell_type": "code",
   "execution_count": null,
   "metadata": {},
   "outputs": [],
   "source": []
  }
 ],
 "metadata": {
  "kernelspec": {
   "display_name": "Python 3",
   "language": "python",
   "name": "python3"
  },
  "language_info": {
   "codemirror_mode": {
    "name": "ipython",
    "version": 3
   },
   "file_extension": ".py",
   "mimetype": "text/x-python",
   "name": "python",
   "nbconvert_exporter": "python",
   "pygments_lexer": "ipython3",
   "version": "3.5.6"
  }
 },
 "nbformat": 4,
 "nbformat_minor": 4
}
